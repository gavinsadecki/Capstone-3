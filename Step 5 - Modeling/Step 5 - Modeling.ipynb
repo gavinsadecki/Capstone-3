{
 "cells": [
  {
   "cell_type": "markdown",
   "metadata": {},
   "source": [
    "# 5 Modeling"
   ]
  },
  {
   "cell_type": "markdown",
   "metadata": {},
   "source": [
    "### 5.1 Import Modules and Data"
   ]
  },
  {
   "cell_type": "code",
   "execution_count": 1,
   "metadata": {},
   "outputs": [],
   "source": [
    "import pandas as pd\n",
    "import matplotlib.pyplot as plt\n",
    "import seaborn as sns\n",
    "import numpy as np\n",
    "import pickle\n",
    "\n",
    "from sklearn.model_selection import GridSearchCV\n",
    "from sklearn.model_selection import RandomizedSearchCV\n",
    "\n",
    "from sklearn.linear_model import Ridge\n",
    "from sklearn.linear_model import Lasso\n",
    "\n",
    "from sklearn.svm import SVR\n",
    "\n",
    "from sklearn.ensemble import GradientBoostingRegressor\n",
    "from sklearn.ensemble import RandomForestRegressor\n",
    "\n",
    "from sklearn.model_selection import train_test_split\n",
    "\n",
    "from sklearn.metrics import mean_absolute_error\n",
    "\n",
    "import warnings\n",
    "warnings.filterwarnings(\"ignore\")"
   ]
  },
  {
   "cell_type": "code",
   "execution_count": 2,
   "metadata": {},
   "outputs": [
    {
     "name": "stdout",
     "output_type": "stream",
     "text": [
      "(3101, 240) (3101, 1)\n"
     ]
    }
   ],
   "source": [
    "Train70 = open('../Step 4 - Pre-Processing/Train70Data.p','rb')\n",
    "X_train70, y_train70 = pickle.load(Train70)\n",
    "Train70.close()\n",
    "\n",
    "Test30 = open('../Step 4 - Pre-Processing/Test30Data.p','rb')\n",
    "X_test30, y_test30 = pickle.load(Test30)\n",
    "Test30.close()\n",
    "\n",
    "Train50 = open('../Step 4 - Pre-Processing/Train50Data.p','rb')\n",
    "X_train50, y_train50 = pickle.load(Train50)\n",
    "Train50.close()\n",
    "\n",
    "Test50 = open('../Step 4 - Pre-Processing/Test50Data.p','rb')\n",
    "X_test50, y_test50 = pickle.load(Test50)\n",
    "Test50.close()\n",
    "\n",
    "print(X_train70.shape, y_train70.shape)"
   ]
  },
  {
   "cell_type": "code",
   "execution_count": 3,
   "metadata": {},
   "outputs": [],
   "source": [
    "filename = '../Step 2 - Data Wrangling/predict-volcanic-eruptions/Data.csv'\n",
    "df = pd.read_csv(filename)\n",
    "\n",
    "X = df.drop(['segment_id','time_to_eruption'],axis =1 )\n",
    "y = df[['time_to_eruption']]"
   ]
  },
  {
   "cell_type": "markdown",
   "metadata": {},
   "source": [
    "## 5.2 Ridge Regression"
   ]
  },
  {
   "cell_type": "code",
   "execution_count": 4,
   "metadata": {},
   "outputs": [
    {
     "name": "stdout",
     "output_type": "stream",
     "text": [
      "A train test split of 70/30 had a best params of {'max_iter': 20, 'fit_intercept': True, 'alpha': 1.0} with a score of -17.739 and a MAE : 14325960.817 on the test data.\n",
      "\n",
      "A train test split of 50/50 had a best params of {'max_iter': 75, 'fit_intercept': False, 'alpha': 0.7} with a score of -0.441 and a MAE : 24087348.076 on the test data.\n",
      "\n"
     ]
    }
   ],
   "source": [
    "ridReg = Ridge()\n",
    "params = {'alpha' : [x/10 for x in range(0,11)], 'max_iter' : [10,20,50,75,100], 'fit_intercept' : [True,False]}\n",
    "rSearchCV = RandomizedSearchCV(ridReg, params, cv=5, n_jobs = -1)\n",
    "\n",
    "rSearchCV.fit(X_train70, y_train70)\n",
    "y_predTest30 = rSearchCV.predict(X_test30)\n",
    "MAEScore = mean_absolute_error(y_test30,y_predTest30)\n",
    "print('A train test split of 70/30 had a best params of %s with a score of %.3f and a MAE : %.3f on the test data.\\n' % (rSearchCV.best_params_, rSearchCV.best_score_,MAEScore))\n",
    "\n",
    "rSearchCV.fit(X_train50, y_train50)\n",
    "y_predTest50 = rSearchCV.predict(X_test50)\n",
    "MAEScore = mean_absolute_error(y_test50,y_predTest50)\n",
    "print('A train test split of 50/50 had a best params of %s with a score of %.3f and a MAE : %.3f on the test data.\\n' % (rSearchCV.best_params_, rSearchCV.best_score_,MAEScore))"
   ]
  },
  {
   "cell_type": "markdown",
   "metadata": {},
   "source": [
    "Using Ridge regression and randomized search CV, we receieved a minimum MAE of 0.749 with our 70/30 split data. This is a lower than the 50/50 split, which just gives us an extra indicator that our model isn't doing something wrong since feeding it more data should bring the MAE down."
   ]
  },
  {
   "cell_type": "markdown",
   "metadata": {},
   "source": [
    "## 5.3 Lasso Regression"
   ]
  },
  {
   "cell_type": "code",
   "execution_count": 5,
   "metadata": {},
   "outputs": [
    {
     "name": "stdout",
     "output_type": "stream",
     "text": [
      "A train test split of 70/30 had a best params of {'max_iter': 20, 'fit_intercept': True, 'alpha': 1.0} with a score of -17.739 and a MAE : 14325960.817 on the test data.\n",
      "\n",
      "A train test split of 50/50 had a best params of {'max_iter': 20, 'fit_intercept': True, 'alpha': 0.9} with a score of -0.435 and a MAE : 24020823.309 on the test data.\n",
      "\n"
     ]
    }
   ],
   "source": [
    "lasReg = Lasso()\n",
    "params = {'alpha' : [x/10 for x in range(0,11)], 'max_iter' : [10,20,50,75,100], 'fit_intercept' : [True,False]}\n",
    "gSearchCV = RandomizedSearchCV(lasReg, params, cv=5, n_jobs = -1)\n",
    "\n",
    "rSearchCV.fit(X_train70, y_train70)\n",
    "y_predTest30 = rSearchCV.predict(X_test30)\n",
    "MAEScore = mean_absolute_error(y_test30,y_predTest30)\n",
    "print('A train test split of 70/30 had a best params of %s with a score of %.3f and a MAE : %.3f on the test data.\\n' % (rSearchCV.best_params_, rSearchCV.best_score_,MAEScore))\n",
    "\n",
    "rSearchCV.fit(X_train50, y_train50)\n",
    "y_predTest50 = rSearchCV.predict(X_test50)\n",
    "MAEScore = mean_absolute_error(y_test50,y_predTest50)\n",
    "print('A train test split of 50/50 had a best params of %s with a score of %.3f and a MAE : %.3f on the test data.\\n' % (rSearchCV.best_params_, rSearchCV.best_score_,MAEScore))"
   ]
  },
  {
   "cell_type": "markdown",
   "metadata": {},
   "source": [
    "With Lasso regression, we get something very close to the Ridge regression. We may need to look at another model to help see if we can bring the MAE down lower."
   ]
  },
  {
   "cell_type": "markdown",
   "metadata": {},
   "source": [
    "## 5.4 SVR"
   ]
  },
  {
   "cell_type": "code",
   "execution_count": 6,
   "metadata": {},
   "outputs": [
    {
     "name": "stdout",
     "output_type": "stream",
     "text": [
      "A train test split of 70/30 had a best params of {'epsilon': 0.001, 'degree': 2, 'C': 100} with a score of -0.003 and a MAE : 11482915.639 on the test data.\n",
      "\n",
      "A train test split of 50/50 had a best params of {'epsilon': 0.1, 'degree': 50, 'C': 50} with a score of 0.566 and a MAE : 22830575.652 on the test data.\n",
      "\n"
     ]
    }
   ],
   "source": [
    "svrModel = SVR()\n",
    "params = {'degree' : [1,2,5,10,15,25,50,100], 'C' : [1,5,10,20,25,50,75,100],'epsilon' : [0.1,0.01,0.2,0.05,0.001]}\n",
    "rSearchCV = RandomizedSearchCV(svrModel, params, cv=5, n_jobs = -1)\n",
    "\n",
    "rSearchCV.fit(X_train70, y_train70)\n",
    "y_predTest30 = rSearchCV.predict(X_test30)\n",
    "MAEScore = mean_absolute_error(y_test30,y_predTest30)\n",
    "print('A train test split of 70/30 had a best params of %s with a score of %.3f and a MAE : %.3f on the test data.\\n' % (rSearchCV.best_params_, rSearchCV.best_score_,MAEScore))\n",
    "\n",
    "rSearchCV.fit(X_train50, y_train50)\n",
    "y_predTest50 = rSearchCV.predict(X_test50)\n",
    "MAEScore = mean_absolute_error(y_test50,y_predTest50)\n",
    "print('A train test split of 50/50 had a best params of %s with a score of %.3f and a MAE : %.3f on the test data.\\n' % (rSearchCV.best_params_, rSearchCV.best_score_,MAEScore))"
   ]
  },
  {
   "cell_type": "markdown",
   "metadata": {},
   "source": [
    "SVR gave us a MAE of 11482915.639 which is lower than the Ridge and Lasso regression. It seems like SVR may be our model but let's train the models on the entire dataset and then evaluate to see how it performs."
   ]
  },
  {
   "cell_type": "markdown",
   "metadata": {},
   "source": [
    "## 3.5 Conclusion"
   ]
  },
  {
   "cell_type": "code",
   "execution_count": 4,
   "metadata": {},
   "outputs": [
    {
     "name": "stdout",
     "output_type": "stream",
     "text": [
      "MAE : 14325960.817\n"
     ]
    }
   ],
   "source": [
    "model1 = Ridge(max_iter = 20, fit_intercept = True, alpha = 1.0)\n",
    "model1.fit(X_train70,y_train70)\n",
    "\n",
    "y_pred = model1.predict(X_test30)\n",
    "print('MAE : %.3f' % (mean_absolute_error(y_test30,y_pred)))"
   ]
  },
  {
   "cell_type": "code",
   "execution_count": 5,
   "metadata": {},
   "outputs": [
    {
     "name": "stdout",
     "output_type": "stream",
     "text": [
      "MAE : 10249337.702\n"
     ]
    }
   ],
   "source": [
    "model2 = Lasso(max_iter = 20, fit_intercept = True, alpha = 1.0)\n",
    "model2.fit(X_train70,y_train70)\n",
    "\n",
    "y_pred = model2.predict(X_test30)\n",
    "print('MAE : %.3f' % (mean_absolute_error(y_test30,y_pred)))"
   ]
  },
  {
   "cell_type": "code",
   "execution_count": 6,
   "metadata": {},
   "outputs": [
    {
     "name": "stdout",
     "output_type": "stream",
     "text": [
      "MAE : 11482915.639\n"
     ]
    }
   ],
   "source": [
    "model3 = SVR(kernel = 'rbf', epsilon = 0.001, degree = 2, C = 100)\n",
    "model3.fit(X_train70,y_train70)\n",
    "\n",
    "y_pred = model3.predict(X_test30)\n",
    "print('MAE : %.3f' % (mean_absolute_error(y_test30,y_pred)))"
   ]
  },
  {
   "cell_type": "markdown",
   "metadata": {},
   "source": [
    "|Model|Split Size|MAE|\n",
    "|------|------|------|\n",
    "|Ridge|70/30|14325960.817|\n",
    "|Lasso|70/30|10249337.702|\n",
    "|Support Vector|70/30|11482915.639|"
   ]
  },
  {
   "cell_type": "markdown",
   "metadata": {},
   "source": [
    "Training models with the best parameters found from our randomized search showed that Lasso regression actually provided the lowest MAE. Lasso regression will be our final model. Although we can look at our coefficients from the ridge regression and see which columns had the most important features."
   ]
  },
  {
   "cell_type": "code",
   "execution_count": 10,
   "metadata": {},
   "outputs": [
    {
     "data": {
      "image/png": "[encoded data removed]",
      "text/plain": [
       "<Figure size 1440x720 with 1 Axes>"
      ]
     },
     "metadata": {
      "needs_background": "light"
     },
     "output_type": "display_data"
    }
   ],
   "source": [
    "x = np.arange(1,len(X_train70.columns) + 1)\n",
    "\n",
    "fig, ax = plt.subplots()\n",
    "fig.set_figheight(10)\n",
    "fig.set_figwidth(20)\n",
    "\n",
    "plt.plot([0.75,241.25],[0,0], c = 'black')\n",
    "plt.bar(x,model1.coef_[0],width = 0.5,tick_label = X_train70.columns)\n",
    "plt.title('Ridge Regression Feature Importance')\n",
    "plt.xlabel('Columns')\n",
    "plt.ylabel('Ridge Reg Coefficients')\n",
    "\n",
    "fig.tight_layout()\n",
    "plt.show()"
   ]
  },
  {
   "cell_type": "code",
   "execution_count": 11,
   "metadata": {},
   "outputs": [
    {
     "name": "stdout",
     "output_type": "stream",
     "text": [
      "The top 10 features based on Ridge regression :\n",
      "sensor_3_skew 7597768.635403201\n",
      "sensor_4_skew 4634086.2185216835\n",
      "sensor_9_skew 2316140.4313580506\n",
      "sensor_8_skew 1774143.113459803\n",
      "sensor_2_skew 920320.8150891468\n",
      "sensor_7_meanAbsDev 520800.3887744317\n",
      "sensor_6_skew 220151.9672663994\n",
      "sensor_9_kurtosis 166979.0559612327\n",
      "sensor_3_65percentile 160809.67068493055\n",
      "sensor_7_35percentile 154206.05428656124\n",
      "\n",
      "The bottom 10 features based on Ridge regression :\n",
      "sensor_10_skew -6882123.786877783\n",
      "sensor_1_skew -2606751.154321596\n",
      "sensor_7_skew -2234386.9031546684\n",
      "sensor_6_meanAbsDev -292912.404817837\n",
      "sensor_5_meanAbsDev -276305.20183187944\n",
      "sensor_5_35percentile -190055.02944175355\n",
      "sensor_4_meanAbsDev -148853.60881495764\n",
      "sensor_1_kurtosis -147939.7596082204\n",
      "sensor_5_10percentile -143374.192196537\n",
      "sensor_2_25percentile -143206.983521246\n"
     ]
    }
   ],
   "source": [
    "top10 = []\n",
    "bottom10 = []\n",
    "for i in range(0,10) :\n",
    "    top10.append(sorted(zip(X_train70.columns,model1.coef_[0]), key = lambda x:x[1])[(-1 * i)-1])\n",
    "    bottom10.append(sorted(zip(X_train70.columns,model1.coef_[0]), key = lambda x:x[1])[i])\n",
    "    \n",
    "print('The top 10 features based on Ridge regression :')\n",
    "for i,j in top10 :\n",
    "    print(i,j)\n",
    "\n",
    "print('\\nThe bottom 10 features based on Ridge regression :')\n",
    "for i,j in bottom10 :\n",
    "    print(i,j)"
   ]
  },
  {
   "cell_type": "markdown",
   "metadata": {},
   "source": [
    "Looking at the coefficients of our Ridge regression, we see skew dominates the top 5 spots and holds 6 out of 10 spots in the largest 10 coefficients. It seems like the skew gives a very strong positive effect on our time to erupt. Looking at the bottom 10 features, 3 skew variables hold the top spots. It seems that the skew has the biggest impact on our target variable and can occur in both the positive and negative side. Other than skew, no other patterns seem to appear from the top spots in how certain features may affected the target. We will export the final model and provide it in a file to use."
   ]
  },
  {
   "cell_type": "code",
   "execution_count": 9,
   "metadata": {},
   "outputs": [],
   "source": [
    "finalModel = Lasso(max_iter = 20, fit_intercept = True, alpha = 1.0)\n",
    "finalModel.fit(X,y)\n",
    "\n",
    "finalModelExport = open('finalModel.p','wb')\n",
    "pickle.dump(finalModel,finalModelExport)\n",
    "finalModelExport.close()"
   ]
  }
 ],
 "metadata": {
  "kernelspec": {
   "display_name": "Python 3",
   "language": "python",
   "name": "python3"
  },
  "language_info": {
   "codemirror_mode": {
    "name": "ipython",
    "version": 3
   },
   "file_extension": ".py",
   "mimetype": "text/x-python",
   "name": "python",
   "nbconvert_exporter": "python",
   "pygments_lexer": "ipython3",
   "version": "3.8.5"
  }
 },
 "nbformat": 4,
 "nbformat_minor": 4
}
