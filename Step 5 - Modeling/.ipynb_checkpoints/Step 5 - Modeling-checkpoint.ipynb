{
 "cells": [
  {
   "cell_type": "markdown",
   "metadata": {},
   "source": [
    "# 5 Modeling"
   ]
  },
  {
   "cell_type": "markdown",
   "metadata": {},
   "source": [
    "### 5.1 Import Modules and Data"
   ]
  },
  {
   "cell_type": "code",
   "execution_count": 1,
   "metadata": {},
   "outputs": [],
   "source": [
    "import pandas as pd\n",
    "import matplotlib.pyplot as plt\n",
    "import seaborn as sns\n",
    "import numpy as np\n",
    "import pickle\n",
    "\n",
    "from sklearn.model_selection import GridSearchCV\n",
    "from sklearn.model_selection import RandomizedSearchCV\n",
    "\n",
    "from sklearn.linear_model import LinearRegression\n",
    "from sklearn.linear_model import Ridge\n",
    "from sklearn.linear_model import Lasso\n",
    "\n",
    "from sklearn.svm import SVR\n",
    "\n",
    "from sklearn.metrics import mean_absolute_error\n",
    "\n",
    "import warnings\n",
    "warnings.filterwarnings(\"ignore\")"
   ]
  },
  {
   "cell_type": "code",
   "execution_count": 31,
   "metadata": {},
   "outputs": [
    {
     "name": "stdout",
     "output_type": "stream",
     "text": [
      "(3101, 240) (3101, 1)\n"
     ]
    }
   ],
   "source": [
    "Train70 = open('../Step 4 - Pre-Processing/Train70Data.p','rb')\n",
    "X_train70, y_train70 = pickle.load(Train70)\n",
    "Train70.close()\n",
    "\n",
    "Test30 = open('../Step 4 - Pre-Processing/Test30Data.p','rb')\n",
    "X_test30, y_test30 = pickle.load(Test30)\n",
    "Test30.close()\n",
    "\n",
    "Train50 = open('../Step 4 - Pre-Processing/Train50Data.p','rb')\n",
    "X_train50, y_train50 = pickle.load(Train50)\n",
    "Train50.close()\n",
    "\n",
    "Test50 = open('../Step 4 - Pre-Processing/Test50Data.p','rb')\n",
    "X_test50, y_test50 = pickle.load(Test50)\n",
    "Test50.close()\n",
    "\n",
    "X_train70segement_id = X_train70[['segment_id']]\n",
    "X_test30segement_id = X_test30[['segment_id']]\n",
    "X_train50segement_id = X_train50[['segment_id']]\n",
    "X_test50segement_id = X_test50[['segment_id']]\n",
    "\n",
    "X_train70 = X_train70.drop('segment_id',axis=1)\n",
    "X_test30 = X_test30.drop('segment_id',axis=1)\n",
    "X_train50 = X_train50.drop('segment_id',axis=1)\n",
    "X_test50 = X_test50.drop('segment_id',axis=1)\n",
    "\n",
    "print(X_train70.shape, y_train70.shape)"
   ]
  },
  {
   "cell_type": "markdown",
   "metadata": {},
   "source": [
    "## 5.2 Ridge Regression"
   ]
  },
  {
   "cell_type": "code",
   "execution_count": 32,
   "metadata": {},
   "outputs": [
    {
     "name": "stdout",
     "output_type": "stream",
     "text": [
      "A train test split of 70/30 had a best params of {'max_iter': 50, 'fit_intercept': False, 'alpha': 0.7} with a score of -1.064 and a MAE : 0.749 on the test data.\n",
      "\n",
      "A train test split of 50/50 had a best params of {'max_iter': 100, 'fit_intercept': True, 'alpha': 0.8} with a score of -0.715 and a MAE : 0.868 on the test data.\n",
      "\n"
     ]
    }
   ],
   "source": [
    "ridReg = Ridge()\n",
    "params = {'alpha' : [x/10 for x in range(0,11)], 'max_iter' : [10,20,50,75,100], 'fit_intercept' : [True,False]}\n",
    "rSearchCV = RandomizedSearchCV(ridReg, params, cv=5, n_jobs = -1)\n",
    "\n",
    "rSearchCV.fit(X_train70, y_train70)\n",
    "y_predTest30 = rSearchCV.predict(X_test30)\n",
    "MAEScore = mean_absolute_error(y_test30,y_predTest30)\n",
    "print('A train test split of 70/30 had a best params of %s with a score of %.3f and a MAE : %.3f on the test data.\\n' % (rSearchCV.best_params_, rSearchCV.best_score_,MAEScore))\n",
    "\n",
    "rSearchCV.fit(X_train50, y_train50)\n",
    "y_predTest50 = rSearchCV.predict(X_test50)\n",
    "MAEScore = mean_absolute_error(y_test50,y_predTest50)\n",
    "print('A train test split of 50/50 had a best params of %s with a score of %.3f and a MAE : %.3f on the test data.\\n' % (rSearchCV.best_params_, rSearchCV.best_score_,MAEScore))"
   ]
  },
  {
   "cell_type": "markdown",
   "metadata": {},
   "source": [
    "Using Ridge regression and randomized search CV, we receieved a minimum MAE of 0.749 with our 70/30 split data. This is a lower than the 50/50 split, which just gives us an extra indicator that our model isn't doing something wrong since feeding it more data should bring the MAE down."
   ]
  },
  {
   "cell_type": "markdown",
   "metadata": {},
   "source": [
    "## 5.3 Lasso Regression"
   ]
  },
  {
   "cell_type": "code",
   "execution_count": 33,
   "metadata": {},
   "outputs": [
    {
     "name": "stdout",
     "output_type": "stream",
     "text": [
      "A train test split of 70/30 had a best params of {'max_iter': 100, 'fit_intercept': False, 'alpha': 1.0} with a score of -0.802 and a MAE : 0.746 on the test data.\n",
      "\n",
      "A train test split of 50/50 had a best params of {'max_iter': 20, 'fit_intercept': True, 'alpha': 1.0} with a score of -0.595 and a MAE : 0.850 on the test data.\n",
      "\n"
     ]
    }
   ],
   "source": [
    "lasReg = Lasso()\n",
    "params = {'alpha' : [x/10 for x in range(0,11)], 'max_iter' : [10,20,50,75,100], 'fit_intercept' : [True,False]}\n",
    "gSearchCV = RandomizedSearchCV(lasReg, params, cv=5, n_jobs = -1)\n",
    "\n",
    "rSearchCV.fit(X_train70, y_train70)\n",
    "y_predTest30 = rSearchCV.predict(X_test30)\n",
    "\n",
    "MAEScore = mean_absolute_error(y_test30,y_predTest30)\n",
    "print('A train test split of 70/30 had a best params of %s with a score of %.3f and a MAE : %.3f on the test data.\\n' % (rSearchCV.best_params_, rSearchCV.best_score_,MAEScore))\n",
    "\n",
    "rSearchCV.fit(X_train50, y_train50)\n",
    "y_predTest50 = rSearchCV.predict(X_test50)\n",
    "\n",
    "MAEScore = mean_absolute_error(y_test50,y_predTest50)\n",
    "print('A train test split of 50/50 had a best params of %s with a score of %.3f and a MAE : %.3f on the test data.\\n' % (rSearchCV.best_params_, rSearchCV.best_score_,MAEScore))"
   ]
  },
  {
   "cell_type": "markdown",
   "metadata": {},
   "source": [
    "With Lasso regression, we get something very close to the Ridge regression. We may need to look at another model to help see if we can bring the MAE down lower."
   ]
  },
  {
   "cell_type": "markdown",
   "metadata": {},
   "source": [
    "## 5.4 SVR"
   ]
  },
  {
   "cell_type": "code",
   "execution_count": 34,
   "metadata": {},
   "outputs": [
    {
     "name": "stdout",
     "output_type": "stream",
     "text": [
      "A train test split of 70/30 had a best params of {'kernel': 'rbf', 'epsilon': 0.001, 'degree': 4, 'C': 25} with a score of 0.630 and a MAE : 0.442 on the test data.\n",
      "\n",
      "A train test split of 50/50 had a best params of {'kernel': 'rbf', 'epsilon': 0.001, 'degree': 8, 'C': 10} with a score of 0.555 and a MAE : 0.470 on the test data.\n",
      "\n"
     ]
    }
   ],
   "source": [
    "svrModel = SVR()\n",
    "params = {'kernel' : ['linear', 'poly', 'rbf'], 'degree' : [1,2,3,4,5,6,7,8], 'C' : [1,5,10,20,25,50],'epsilon' : [0.1,0.01,0.001,0.05]}\n",
    "rSearchCV = RandomizedSearchCV(svrModel, params, cv=5, n_jobs = -1)\n",
    "\n",
    "rSearchCV.fit(X_train70, y_train70)\n",
    "y_predTest30 = rSearchCV.predict(X_test30)\n",
    "\n",
    "MAEScore = mean_absolute_error(y_test30,y_predTest30)\n",
    "print('A train test split of 70/30 had a best params of %s with a score of %.3f and a MAE : %.3f on the test data.\\n' % (rSearchCV.best_params_, rSearchCV.best_score_,MAEScore))\n",
    "\n",
    "rSearchCV.fit(X_train50, y_train50)\n",
    "y_predTest50 = rSearchCV.predict(X_test50)\n",
    "\n",
    "MAEScore = mean_absolute_error(y_test50,y_predTest50)\n",
    "print('A train test split of 50/50 had a best params of %s with a score of %.3f and a MAE : %.3f on the test data.\\n' % (rSearchCV.best_params_, rSearchCV.best_score_,MAEScore))"
   ]
  },
  {
   "cell_type": "markdown",
   "metadata": {},
   "source": [
    "SVR gave us a MAE of 0.442 which is significantly lower than the Ridge and Lasso regression. It seems like SVR may be the model we choose going forward."
   ]
  },
  {
   "cell_type": "markdown",
   "metadata": {},
   "source": [
    "## 5.6 Conclusion"
   ]
  },
  {
   "cell_type": "code",
   "execution_count": 35,
   "metadata": {},
   "outputs": [
    {
     "name": "stdout",
     "output_type": "stream",
     "text": [
      "MAE : 0.749\n"
     ]
    }
   ],
   "source": [
    "model1 = Ridge(max_iter = 50, fit_intercept = False, alpha = 0.7)\n",
    "model1.fit(X_train70,y_train70)\n",
    "\n",
    "y_pred = model1.predict(X_test30)\n",
    "print('MAE : %.3f' % (mean_absolute_error(y_test30,y_pred)))"
   ]
  },
  {
   "cell_type": "code",
   "execution_count": 36,
   "metadata": {},
   "outputs": [
    {
     "name": "stdout",
     "output_type": "stream",
     "text": [
      "MAE : 0.847\n"
     ]
    }
   ],
   "source": [
    "model2 = Lasso(max_iter = 100, fit_intercept = False, alpha = 1.0)\n",
    "model2.fit(X_train70,y_train70)\n",
    "\n",
    "y_pred = model2.predict(X_test30)\n",
    "print('MAE : %.3f' % (mean_absolute_error(y_test30,y_pred)))"
   ]
  },
  {
   "cell_type": "code",
   "execution_count": 37,
   "metadata": {},
   "outputs": [
    {
     "name": "stdout",
     "output_type": "stream",
     "text": [
      "MAE : 0.442\n"
     ]
    }
   ],
   "source": [
    "model3 = SVR(kernel = 'rbf', epsilon = 0.001, degree = 4, C = 25)\n",
    "model3.fit(X_train70,y_train70)\n",
    "\n",
    "y_pred = model3.predict(X_test30)\n",
    "print('MAE : %.3f' % (mean_absolute_error(y_test30,y_pred)))"
   ]
  },
  {
   "cell_type": "markdown",
   "metadata": {},
   "source": [
    "|Model|Split Size|MAE|\n",
    "|------|------|------|\n",
    "|Ridge|70/30|0.749|\n",
    "|Lasso|70/30|0.847|\n",
    "|Support Vector|70/30|0.442|"
   ]
  },
  {
   "cell_type": "markdown",
   "metadata": {},
   "source": [
    "Training models with the best parameters found from our randomized search confirms that SVR provides the lowest MAE. While SVR is going to be our final model, we can still take a look at the others and find out how those models were looking at our data and see what features were the most improtant."
   ]
  },
  {
   "cell_type": "code",
   "execution_count": 38,
   "metadata": {},
   "outputs": [
    {
     "data": {
      "image/png": "[encoded data removed]",
      "text/plain": [
       "<Figure size 1440x720 with 1 Axes>"
      ]
     },
     "metadata": {
      "needs_background": "light"
     },
     "output_type": "display_data"
    }
   ],
   "source": [
    "x = np.arange(1,len(X_train70.columns) + 1)\n",
    "\n",
    "fig, ax = plt.subplots()\n",
    "fig.set_figheight(10)\n",
    "fig.set_figwidth(20)\n",
    "\n",
    "plt.plot([0.75,241.25],[0,0], c = 'black')\n",
    "plt.bar(x,model1.coef_[0],width = 0.5,tick_label = X_train70.columns)\n",
    "plt.title('Ridge Regression Feature Importance')\n",
    "plt.xlabel('Columns')\n",
    "plt.ylabel('Ridge Reg Coefficients')\n",
    "\n",
    "fig.tight_layout()\n",
    "plt.show()"
   ]
  },
  {
   "cell_type": "code",
   "execution_count": 46,
   "metadata": {},
   "outputs": [
    {
     "name": "stdout",
     "output_type": "stream",
     "text": [
      "The top 10 features based on Ridge regression :\n",
      "sensor_2_20percentile 1.0703106273772276\n",
      "sensor_5_var 1.047005739387588\n",
      "sensor_3_10percentile 1.0196170774279871\n",
      "sensor_1_01percentile 0.9930715854649496\n",
      "sensor_1_var 0.8617676703351951\n",
      "sensor_6_99percentile 0.8594396413473736\n",
      "sensor_5_01percentile 0.7991642142830743\n",
      "sensor_8_std 0.7944557869321011\n",
      "sensor_9_90percentile 0.7679272839683339\n",
      "sensor_4_35percentile 0.6852200270832055\n",
      "\n",
      "The bottom 10 features based on Ridge regression :\n",
      "sensor_2_std -1.308603890985252\n",
      "sensor_1_std -1.1464152787099156\n",
      "sensor_2_35percentile -1.0970473038263804\n",
      "sensor_2_95percentile -1.03065606691256\n",
      "sensor_9_01percentile -1.0144280325507387\n",
      "sensor_4_var -0.9793146106033286\n",
      "sensor_5_meanAbsDev -0.9683632900449162\n",
      "sensor_5_80percentile -0.9659066697862057\n",
      "sensor_5_25percentile -0.9651351444814231\n",
      "sensor_6_std -0.839251086323683\n"
     ]
    }
   ],
   "source": [
    "top10 = []\n",
    "bottom10 = []\n",
    "for i in range(0,10) :\n",
    "    top10.append(sorted(zip(X_train70.columns,model1.coef_[0]), key = lambda x:x[1])[(-1 * i)-1])\n",
    "    bottom10.append(sorted(zip(X_train70.columns,model1.coef_[0]), key = lambda x:x[1])[i])\n",
    "    \n",
    "print('The top 10 features based on Ridge regression :')\n",
    "for i,j in top10 :\n",
    "    print(i,j)\n",
    "\n",
    "print('\\nThe bottom 10 features based on Ridge regression :')\n",
    "for i,j in bottom10 :\n",
    "    print(i,j)"
   ]
  },
  {
   "cell_type": "markdown",
   "metadata": {},
   "source": [
    "Looking at the coefficients of our Ridge regression, we see that 3 features for STD appear in the bottom 10 coefficients. Although a STD feature can be noticed in the top 10 features as well. There does not seem to be any obvious pattern that sticks out to certain feature metrics that lead to stronger relations. One thing noticed is that there are tons of percentiles that appear in the top 10 and bottom 10, although this could be most likely due to most features being percentiles of the dataset."
   ]
  },
  {
   "cell_type": "code",
   "execution_count": 47,
   "metadata": {},
   "outputs": [],
   "source": [
    "finalModelExport = open('finalModel.p','wb')\n",
    "pickle.dump(model3,finalModelExport)\n",
    "finalModelExport.close()"
   ]
  }
 ],
 "metadata": {
  "kernelspec": {
   "display_name": "Python 3",
   "language": "python",
   "name": "python3"
  },
  "language_info": {
   "codemirror_mode": {
    "name": "ipython",
    "version": 3
   },
   "file_extension": ".py",
   "mimetype": "text/x-python",
   "name": "python",
   "nbconvert_exporter": "python",
   "pygments_lexer": "ipython3",
   "version": "3.8.5"
  }
 },
 "nbformat": 4,
 "nbformat_minor": 4
}
